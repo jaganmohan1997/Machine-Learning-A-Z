{
 "cells": [
  {
   "cell_type": "code",
   "execution_count": 1,
   "metadata": {},
   "outputs": [],
   "source": [
    "import pandas as pd\n",
    "import numpy as np\n",
    "import matplotlib.pyplot as plt\n",
    "import datetime\n",
    "import xgboost as xgb\n",
    "from sklearn.metrics import r2_score"
   ]
  },
  {
   "cell_type": "code",
   "execution_count": 2,
   "metadata": {},
   "outputs": [
    {
     "name": "stdout",
     "output_type": "stream",
     "text": [
      "Time taken to load the df is 0:00:14.516236\n"
     ]
    }
   ],
   "source": [
    "start = datetime.datetime.now()\n",
    "# df_k = pd.read_csv('filterpy kalman understanding/data_unscented1_kalman.csv')\n",
    "df = pd.read_csv('data_linear_kalman.csv')\n",
    "# df['unscented_kalman_var'] = df_k['unscented_kalman_var']\n",
    "# df = pd.read_csv('data-training.csv')\n",
    "print('Time taken to load the df is', datetime.datetime.now() - start)"
   ]
  },
  {
   "cell_type": "code",
   "execution_count": 3,
   "metadata": {},
   "outputs": [],
   "source": [
    "# df = df.loc[:1000,:]"
   ]
  },
  {
   "cell_type": "markdown",
   "metadata": {},
   "source": [
    "# Features"
   ]
  },
  {
   "cell_type": "markdown",
   "metadata": {},
   "source": [
    "#### Mid Price"
   ]
  },
  {
   "cell_type": "code",
   "execution_count": 4,
   "metadata": {},
   "outputs": [
    {
     "data": {
      "text/plain": [
       "(2999999, 68)"
      ]
     },
     "execution_count": 4,
     "metadata": {},
     "output_type": "execute_result"
    }
   ],
   "source": [
    "df['wtd_mid_price0'] = ((df['askRate0'] * df['askSize0']) + (df['bidRate0'] * df['bidSize0']))/(df['bidSize0'] + df['askSize0'])\n",
    "df['mid_price'] = (df['askRate0'] + df['bidRate0'])/2\n",
    "df['diff'] = df['wtd_mid_price0'].diff()\n",
    "df['lag1'] = df['diff'].shift(1)\n",
    "df['lag2'] = df['diff'].shift(2)\n",
    "df['lag3'] = df['diff'].shift(3)\n",
    "df.shape"
   ]
  },
  {
   "cell_type": "markdown",
   "metadata": {},
   "source": [
    "# Singular Spectrum Analysis"
   ]
  },
  {
   "cell_type": "code",
   "execution_count": 5,
   "metadata": {},
   "outputs": [],
   "source": [
    "X = df.loc[:, df.columns != 'y']\n",
    "y = df.loc[:, df.columns == 'y']\n",
    "\n",
    "from sklearn.model_selection import train_test_split\n",
    "\n",
    "X_train, X_test, y_train, y_test = train_test_split(X, y, test_size=0.1, shuffle = False)\n",
    "X_test = X_test.reset_index(drop = True)\n",
    "y_test = y_test.reset_index(drop = True)"
   ]
  },
  {
   "cell_type": "code",
   "execution_count": 6,
   "metadata": {},
   "outputs": [],
   "source": [
    "# start = datetime.datetime.now()\n",
    "\n",
    "# from pyts.decomposition import SingularSpectrumAnalysis\n",
    "\n",
    "\n",
    "# transformer = SingularSpectrumAnalysis(window_size = 9)\n",
    "# transformer_train = pd.DataFrame(transformer.fit_transform(X_train['mid_price'].values.reshape(1,-1)).transpose(), columns = ['SSA1','SSA2','SSA3','SSA4','SSA5','SSA6','SSA7','SSA8','SSA9'])\n",
    "# transformer_test = pd.DataFrame(transformer.transform(X_test['mid_price'].values.reshape(1,-1)).transpose(), columns = ['SSA1','SSA2','SSA3','SSA4','SSA5','SSA6','SSA7','SSA8','SSA9'])\n",
    "# # transformer = pd.DataFrame(transformer.transform(X['mid_price'].values.reshape(1,-1)).transpose(), columns = ['SSA1','SSA2','SSA3','SSA4','SSA5','SSA6','SSA7','SSA8','SSA9'])\n",
    "\n",
    "# X_train = pd.concat([X_train, transformer_train], axis = 1, ignore_index = True)\n",
    "# X_test = pd.concat([X_test,  transformer_test], axis = 1, ignore_index = True)\n",
    "# # X = pd.concat([X,  transformer], axis = 1, ignore_index = True)\n",
    "\n",
    "# print('Time taken to run all the models is', datetime.datetime.now() - start)"
   ]
  },
  {
   "cell_type": "code",
   "execution_count": 7,
   "metadata": {},
   "outputs": [
    {
     "name": "stdout",
     "output_type": "stream",
     "text": [
      "Time taken to run all the models is 0:02:34.656898\n"
     ]
    }
   ],
   "source": [
    "start = datetime.datetime.now()\n",
    "\n",
    "from pyts.decomposition import SingularSpectrumAnalysis\n",
    "\n",
    "\n",
    "transformer = SingularSpectrumAnalysis(window_size = 25)\n",
    "transformer_train = pd.DataFrame(transformer.fit_transform(X_train['mid_price'].values.reshape(1,-1)).transpose(), columns = ['SSA1','SSA2','SSA3','SSA4','SSA5','SSA6','SSA7','SSA8','SSA9','SSA10','SSA11','SSA12','SSA13','SSA14','SSA15','SSA16','SSA17','SSA18','SSA19','SSA120','SSA21','SSA22','SSA23','SSA24','SSA25'])\n",
    "transformer_test = pd.DataFrame(transformer.transform(X_test['mid_price'].values.reshape(1,-1)).transpose(), columns = ['SSA1','SSA2','SSA3','SSA4','SSA5','SSA6','SSA7','SSA8','SSA9','SSA10','SSA11','SSA12','SSA13','SSA14','SSA15','SSA16','SSA17','SSA18','SSA19','SSA120','SSA21','SSA22','SSA23','SSA24','SSA25'])\n",
    "# transformer_total = pd.DataFrame(transformer.transform(X['mid_price'].values.reshape(1,-1)).transpose(), columns = ['SSA1','SSA2','SSA3','SSA4','SSA5','SSA6','SSA7','SSA8','SSA9','SSA10','SSA11','SSA12','SSA13','SSA14','SSA15','SSA16','SSA17','SSA18','SSA19','SSA120','SSA21','SSA22','SSA23','SSA24','SSA25'])\n",
    "\n",
    "\n",
    "X_train = pd.concat([X_train, transformer_train], axis = 1, ignore_index = True)\n",
    "X_test = pd.concat([X_test,  transformer_test], axis = 1, ignore_index = True)\n",
    "# X = pd.concat([X,  transformer_total], axis = 1, ignore_index = True)\n",
    "\n",
    "\n",
    "print('Time taken to run all the models is', datetime.datetime.now() - start)"
   ]
  },
  {
   "cell_type": "markdown",
   "metadata": {},
   "source": [
    "#### SMA"
   ]
  },
  {
   "cell_type": "code",
   "execution_count": 8,
   "metadata": {},
   "outputs": [],
   "source": [
    "# df['SMA5_diff_lag_mid_price'] = df['diff_lag_mid_price'].rolling(window=5).mean()\n",
    "# df['SMA5_askRate0'] = df['askRate0'].rolling(window=5).mean()\n",
    "# df['SMA5_askSize0'] = df['askSize0'].rolling(window=5).mean()\n",
    "# df['SMA5_bidRate0'] = df['bidRate0'].rolling(window=5).mean()\n",
    "# df['SMA5_bidSize0'] = df['bidSize0'].rolling(window=5).mean()\n",
    "# df.shape"
   ]
  },
  {
   "cell_type": "markdown",
   "metadata": {},
   "source": [
    "#### EMA"
   ]
  },
  {
   "cell_type": "code",
   "execution_count": 9,
   "metadata": {},
   "outputs": [],
   "source": [
    "# df['EMA_diff_lag_mid_price'] = df['diff_lag_mid_price'].ewm(com = 0.5, adjust = False).mean()\n",
    "# df['EMA_askRate0'] = df['askRate0'].ewm(com = 0.5, adjust = False).mean()\n",
    "# df['EMA_askSize0'] = df['askSize0'].ewm(com = 0.5, adjust = False).mean()\n",
    "# df['EMA_bidRate0'] = df['bidRate0'].ewm(com = 0.5, adjust = False).mean()\n",
    "# df['EMA_bidSize0'] = df['bidSize0'].ewm(com = 0.5, adjust = False).mean()\n",
    "# df.shape"
   ]
  },
  {
   "cell_type": "markdown",
   "metadata": {},
   "source": [
    "#### Lag"
   ]
  },
  {
   "cell_type": "code",
   "execution_count": 10,
   "metadata": {},
   "outputs": [],
   "source": [
    "# df['lag1_mid_price0'] = df['diff_lag_mid_price'].shift(1)\n",
    "# df['lag2_mid_price0'] = df['diff_lag_mid_price'].shift(2)\n",
    "# df['lag3_mid_price0'] = df['diff_lag_mid_price'].shift(3)\n",
    "# df['lag4_mid_price0'] = df['diff_lag_mid_price'].shift(4)\n",
    "\n",
    "# df['lag1_mid_price0'] = df['mid_price'].shift(1)\n",
    "# df['lag2_mid_price0'] = df['mid_price'].shift(2)\n",
    "# df['lag3_mid_price0'] = df['mid_price'].shift(3)\n",
    "# df['lag4_mid_price0'] = df['mid_price'].shift(4)\n",
    "\n",
    "# df['lag1_wtd_mid_price0'] = df['wtd_mid_price0'].shift(1)\n",
    "# df['lag2_wtd_mid_price0'] = df['wtd_mid_price0'].shift(2)\n",
    "# df['lag3_wtd_mid_price0'] = df['wtd_mid_price0'].shift(3)\n",
    "# df['lag4_wtd_mid_price0'] = df['wtd_mid_price0'].shift(4)\n",
    "\n",
    "# df.shape"
   ]
  },
  {
   "cell_type": "markdown",
   "metadata": {},
   "source": [
    "# Regressor"
   ]
  },
  {
   "cell_type": "code",
   "execution_count": 11,
   "metadata": {},
   "outputs": [],
   "source": [
    "# X = df.loc[1:, df.columns != 'y']\n",
    "# y = df.loc[1:, df.columns == 'y']"
   ]
  },
  {
   "cell_type": "code",
   "execution_count": 12,
   "metadata": {},
   "outputs": [],
   "source": [
    "# X.shape"
   ]
  },
  {
   "cell_type": "code",
   "execution_count": 13,
   "metadata": {},
   "outputs": [],
   "source": [
    "# from sklearn.model_selection import train_test_split\n",
    "\n",
    "# X_train, X_test, y_train, y_test = train_test_split(X, y, test_size=0.1, shuffle = False)"
   ]
  },
  {
   "cell_type": "code",
   "execution_count": 14,
   "metadata": {},
   "outputs": [],
   "source": [
    "# X_train.shape"
   ]
  },
  {
   "cell_type": "code",
   "execution_count": 15,
   "metadata": {},
   "outputs": [],
   "source": [
    "# X_test.shape"
   ]
  },
  {
   "cell_type": "code",
   "execution_count": 16,
   "metadata": {},
   "outputs": [],
   "source": [
    "# start = datetime.datetime.now()\n",
    "\n",
    "# learning_rate = [0.05,0.1,0.2]\n",
    "# max_depth = [4,5,6]\n",
    "# alpha = [10,11,12,13,14,15,16,17,18,19]\n",
    "# colsample_bytree = [0.1,0.3, 0.8]\n",
    "# colsample_bytree = [0.4,0.5,0.6]\n",
    "# gamma = [0,1]\n",
    "# min_child_weight = [0,1]\n",
    "# n_estimators = [25,50,100]\n",
    "\n",
    "# for i in gamma:\n",
    "#     regressor = xgb.XGBRegressor(\n",
    "#         objective ='reg:squarederror', \n",
    "#         colsample_bytree = 0.3,\n",
    "#         learning_rate = 0.1,\n",
    "#         max_depth = 5,\n",
    "#         alpha = 15,\n",
    "#         gamma = i,\n",
    "#         n_estimators = 50)\n",
    "    \n",
    "#     regressor.fit(X_train,y_train)\n",
    "\n",
    "#     y_pred = regressor.predict(X_test)\n",
    "    \n",
    "#     r2 = r2_score(y_test,y_pred)\n",
    "    \n",
    "#     print('R2 score for colsample_bytree value ', i, ' is ', r2)\n",
    "\n",
    "# print('Time taken to run all the models is', datetime.datetime.now() - start)"
   ]
  },
  {
   "cell_type": "code",
   "execution_count": 17,
   "metadata": {},
   "outputs": [],
   "source": [
    "\n",
    "\n",
    "regressor = xgb.XGBRegressor(\n",
    "    objective ='reg:squarederror',\n",
    "    colsample_bytree = 0.3,\n",
    "    learning_rate = 0.1,\n",
    "    max_depth = 5,\n",
    "    alpha = 15,\n",
    "    n_estimators = 50)"
   ]
  },
  {
   "cell_type": "code",
   "execution_count": 18,
   "metadata": {},
   "outputs": [
    {
     "name": "stdout",
     "output_type": "stream",
     "text": [
      "Time taken to train and predict the model is 0:03:38.175302\n"
     ]
    }
   ],
   "source": [
    "start = datetime.datetime.now()\n",
    "\n",
    "regressor.fit(X_train,y_train)\n",
    "\n",
    "y_pred = regressor.predict(X_test)\n",
    "# y_pred = regressor.predict(X)\n",
    "\n",
    "\n",
    "print('Time taken to train and predict the model is', datetime.datetime.now() - start)"
   ]
  },
  {
   "cell_type": "markdown",
   "metadata": {},
   "source": [
    "# RSquared"
   ]
  },
  {
   "cell_type": "code",
   "execution_count": 19,
   "metadata": {},
   "outputs": [
    {
     "data": {
      "text/plain": [
       "0.13471536202864154"
      ]
     },
     "execution_count": 19,
     "metadata": {},
     "output_type": "execute_result"
    }
   ],
   "source": [
    "r2 = r2_score(y_test,y_pred)\n",
    "# r2 = r2_score(y,y_pred)\n",
    "\n",
    "r2"
   ]
  },
  {
   "cell_type": "code",
   "execution_count": 20,
   "metadata": {},
   "outputs": [],
   "source": [
    "# 0.106"
   ]
  }
 ],
 "metadata": {
  "kernelspec": {
   "display_name": "Python 3",
   "language": "python",
   "name": "python3"
  },
  "language_info": {
   "codemirror_mode": {
    "name": "ipython",
    "version": 3
   },
   "file_extension": ".py",
   "mimetype": "text/x-python",
   "name": "python",
   "nbconvert_exporter": "python",
   "pygments_lexer": "ipython3",
   "version": "3.8.3"
  }
 },
 "nbformat": 4,
 "nbformat_minor": 4
}
